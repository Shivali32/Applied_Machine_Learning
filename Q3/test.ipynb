{
 "cells": [
  {
   "cell_type": "code",
   "execution_count": null,
   "metadata": {
    "vscode": {
     "languageId": "plaintext"
    }
   },
   "outputs": [],
   "source": [
    "\n",
    "\n",
    "# # Function to load images\n",
    "# def load_images(image_folder, image_size=(64, 64)):\n",
    "#     image_data = []\n",
    "#     labels = []\n",
    "#     for label, flower_type in enumerate(os.listdir(image_folder)):\n",
    "#         flower_folder = os.path.join(image_folder, flower_type)\n",
    "#         if os.path.isdir(flower_folder):\n",
    "#             for image_file in os.listdir(flower_folder):\n",
    "#                 if image_file.lower().endswith(('.png', '.jpg', '.jpeg')):\n",
    "#                     img_path = os.path.join(flower_folder, image_file)\n",
    "#                     img = Image.open(img_path).convert('RGB')\n",
    "#                     img = img.resize(image_size)  # Resize images to a consistent size\n",
    "#                     img_array = np.array(img).flatten()  # Flatten image to a vector\n",
    "#                     image_data.append(img_array)\n",
    "#                     labels.append(label)\n",
    "    \n",
    "#     return np.array(image_data), np.array(labels)\n",
    "\n",
    "# # Load the flower images\n",
    "# image_folder = \"flowers\"  # Specify the correct path to the flower dataset\n",
    "# image_data, labels = load_images(image_folder)\n",
    "\n",
    "# Normalize data\n",
    "scaler = StandardScaler()\n",
    "image_data_scaled = scaler.fit_transform(image_data)\n",
    "\n",
    "# Apply PCA\n",
    "n_components = 2  # For 2D visualization\n",
    "pca = PCA(n_components=n_components)\n",
    "pca_result = pca.fit_transform(image_data_scaled)\n",
    "\n",
    "# Plotting the PCA results\n",
    "plt.figure(figsize=(8, 6))\n",
    "plt.scatter(pca_result[:, 0], pca_result[:, 1], c=labels, cmap='viridis', edgecolor='k', alpha=0.7)\n",
    "plt.colorbar(label='Flower Type (0: Tulips, 1: Sunflowers)')\n",
    "plt.title('PCA of Flower Images (Tulips vs. Sunflowers)')\n",
    "plt.xlabel('Principal Component 1')\n",
    "plt.ylabel('Principal Component 2')\n",
    "plt.show()\n",
    "\n",
    "# To check the explained variance ratio (how much variance each principal component explains)\n",
    "print(\"Explained Variance Ratio by PCA Components:\", pca.explained_variance_ratio_)\n"
   ]
  },
  {
   "cell_type": "code",
   "execution_count": null,
   "metadata": {
    "vscode": {
     "languageId": "plaintext"
    }
   },
   "outputs": [],
   "source": [
    "import matplotlib.pyplot as plt\n",
    "import numpy as np\n",
    "from sklearn.decomposition import PCA\n",
    "from sklearn.preprocessing import StandardScaler\n",
    "\n",
    "# Assuming image_data is already loaded and scaled as in previous examples\n",
    "\n",
    "# Apply PCA to the data (without limiting components)\n",
    "pca = PCA()\n",
    "pca.fit(image_data_scaled)\n",
    "\n",
    "# Calculate the cumulative explained variance\n",
    "cumulative_variance = np.cumsum(pca.explained_variance_ratio_)\n",
    "\n",
    "# Plot the cumulative variance\n",
    "plt.figure(figsize=(8, 6))\n",
    "plt.plot(range(1, len(cumulative_variance) + 1), cumulative_variance, marker='o', color='b', linestyle='--')\n",
    "plt.axhline(y=0.90, color='r', linestyle='-', label='90% Variance Threshold')  # Line for 90% variance\n",
    "plt.title('Cumulative Explained Variance by PCA Components')\n",
    "plt.xlabel('Number of Principal Components')\n",
    "plt.ylabel('Cumulative Explained Variance')\n",
    "plt.legend(loc='best')\n",
    "plt.grid(True)\n",
    "plt.show()\n",
    "\n",
    "# Find and print the number of components that explain at least 90% of the variance\n",
    "n_components_90 = np.argmax(cumulative_variance >= 0.90) + 1  # Add 1 for 1-based count\n",
    "print(f\"Number of components needed to preserve 90% of the variance: {n_components_90}\")\n"
   ]
  }
 ],
 "metadata": {
  "language_info": {
   "name": "python"
  }
 },
 "nbformat": 4,
 "nbformat_minor": 2
}
